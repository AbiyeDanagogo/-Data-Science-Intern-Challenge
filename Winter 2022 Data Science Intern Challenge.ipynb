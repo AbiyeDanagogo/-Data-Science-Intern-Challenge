{
 "cells": [
  {
   "cell_type": "code",
   "execution_count": 1,
   "metadata": {},
   "outputs": [],
   "source": [
    "import pandas as pd\n",
    "import numpy as np\n",
    "import matplotlib.pyplot as plt"
   ]
  },
  {
   "cell_type": "code",
   "execution_count": 2,
   "metadata": {},
   "outputs": [
    {
     "data": {
      "text/html": [
       "<div>\n",
       "<style scoped>\n",
       "    .dataframe tbody tr th:only-of-type {\n",
       "        vertical-align: middle;\n",
       "    }\n",
       "\n",
       "    .dataframe tbody tr th {\n",
       "        vertical-align: top;\n",
       "    }\n",
       "\n",
       "    .dataframe thead th {\n",
       "        text-align: right;\n",
       "    }\n",
       "</style>\n",
       "<table border=\"1\" class=\"dataframe\">\n",
       "  <thead>\n",
       "    <tr style=\"text-align: right;\">\n",
       "      <th></th>\n",
       "      <th>order_id</th>\n",
       "      <th>shop_id</th>\n",
       "      <th>user_id</th>\n",
       "      <th>order_amount</th>\n",
       "      <th>total_items</th>\n",
       "      <th>payment_method</th>\n",
       "      <th>created_at</th>\n",
       "    </tr>\n",
       "  </thead>\n",
       "  <tbody>\n",
       "    <tr>\n",
       "      <th>0</th>\n",
       "      <td>1</td>\n",
       "      <td>53</td>\n",
       "      <td>746</td>\n",
       "      <td>224</td>\n",
       "      <td>2</td>\n",
       "      <td>cash</td>\n",
       "      <td>2017-03-13 12:36:56</td>\n",
       "    </tr>\n",
       "    <tr>\n",
       "      <th>1</th>\n",
       "      <td>2</td>\n",
       "      <td>92</td>\n",
       "      <td>925</td>\n",
       "      <td>90</td>\n",
       "      <td>1</td>\n",
       "      <td>cash</td>\n",
       "      <td>2017-03-03 17:38:52</td>\n",
       "    </tr>\n",
       "    <tr>\n",
       "      <th>2</th>\n",
       "      <td>3</td>\n",
       "      <td>44</td>\n",
       "      <td>861</td>\n",
       "      <td>144</td>\n",
       "      <td>1</td>\n",
       "      <td>cash</td>\n",
       "      <td>2017-03-14 4:23:56</td>\n",
       "    </tr>\n",
       "    <tr>\n",
       "      <th>3</th>\n",
       "      <td>4</td>\n",
       "      <td>18</td>\n",
       "      <td>935</td>\n",
       "      <td>156</td>\n",
       "      <td>1</td>\n",
       "      <td>credit_card</td>\n",
       "      <td>2017-03-26 12:43:37</td>\n",
       "    </tr>\n",
       "    <tr>\n",
       "      <th>4</th>\n",
       "      <td>5</td>\n",
       "      <td>18</td>\n",
       "      <td>883</td>\n",
       "      <td>156</td>\n",
       "      <td>1</td>\n",
       "      <td>credit_card</td>\n",
       "      <td>2017-03-01 4:35:11</td>\n",
       "    </tr>\n",
       "  </tbody>\n",
       "</table>\n",
       "</div>"
      ],
      "text/plain": [
       "   order_id  shop_id  user_id  order_amount  total_items payment_method  \\\n",
       "0         1       53      746           224            2           cash   \n",
       "1         2       92      925            90            1           cash   \n",
       "2         3       44      861           144            1           cash   \n",
       "3         4       18      935           156            1    credit_card   \n",
       "4         5       18      883           156            1    credit_card   \n",
       "\n",
       "            created_at  \n",
       "0  2017-03-13 12:36:56  \n",
       "1  2017-03-03 17:38:52  \n",
       "2   2017-03-14 4:23:56  \n",
       "3  2017-03-26 12:43:37  \n",
       "4   2017-03-01 4:35:11  "
      ]
     },
     "execution_count": 2,
     "metadata": {},
     "output_type": "execute_result"
    }
   ],
   "source": [
    "ds = pd.read_csv(\"challenge_dataset.csv\")\n",
    "ds.head()"
   ]
  },
  {
   "cell_type": "markdown",
   "metadata": {},
   "source": [
    "## Question 1\n",
    "### 1.a\n",
    "\n",
    "The problem as we can see below is that we are just calculating the average without taking into account eh number of itmes sold. when we take this approach it assumes each order amount in the a row is for just one item purchased."
   ]
  },
  {
   "cell_type": "code",
   "execution_count": 34,
   "metadata": {},
   "outputs": [
    {
     "data": {
      "text/plain": [
       "3145.128"
      ]
     },
     "execution_count": 34,
     "metadata": {},
     "output_type": "execute_result"
    }
   ],
   "source": [
    "# Average of order_amount column\n",
    "ds['order_amount'].mean()"
   ]
  },
  {
   "cell_type": "markdown",
   "metadata": {},
   "source": [
    "### 1.b  \n",
    "The find the correct value the metric to use is the total sum of the order_amount column divided by the sum of the total_items column. This can be represented below as\n",
    "\n",
    "##  $\\frac{\\sum_{i=1}^n (order\\_amount_i)}{\\sum_{i=1}^n (total\\_items_i)}$\t\n",
    "\n",
    "### 1.c  \n",
    "The result for the average order value is **357.92** . We can see how I got the result with the code below."
   ]
  },
  {
   "cell_type": "code",
   "execution_count": 35,
   "metadata": {},
   "outputs": [
    {
     "data": {
      "text/plain": [
       "357.92"
      ]
     },
     "execution_count": 35,
     "metadata": {},
     "output_type": "execute_result"
    }
   ],
   "source": [
    "round(ds['order_amount'].sum() / ds['total_items'].sum(), 2)"
   ]
  },
  {
   "cell_type": "code",
   "execution_count": 1,
   "metadata": {},
   "outputs": [
    {
     "data": {
      "text/html": [
       "<style>\n",
       "table {float:centre}\n",
       "</style>\n"
      ],
      "text/plain": [
       "<IPython.core.display.HTML object>"
      ]
     },
     "metadata": {},
     "output_type": "display_data"
    }
   ],
   "source": [
    "%%html\n",
    "<style>\n",
    "table {float:centre}\n",
    "</style>"
   ]
  },
  {
   "cell_type": "markdown",
   "metadata": {},
   "source": [
    "## Question 2\n",
    "\n",
    "### 2.a How many orders were shipped by Speedy Express in total?\n",
    "\n",
    "**Query**  \n",
    "`\n",
    "SELECT *\n",
    "FROM (SELECT Shippers.ShipperName, Orders.ShipperID, COUNT(Orders.ShipperID)\n",
    "FROM Orders\n",
    "INNER JOIN Shippers\n",
    "ON Orders.ShipperID=Shippers.ShipperID\n",
    "GROUP BY Orders.ShipperID)\n",
    "WHERE ShipperName=\"Speedy Express\";`\n",
    "\n",
    "**Result**  \n",
    "\n",
    "ShipperName |ShipperID |COUNT(Orders.ShipperID)\n",
    "-----|-----|----- \n",
    "Speedy Express|1|54  \n",
    "\n",
    "\n",
    "### 2.b What is the last name of the employee with the most orders?\n",
    "\n",
    "**Query**  \n",
    "`SELECT LastName, MAX(CountOrders)\n",
    "FROM (SELECT Orders.EmployeeID, Employees.FirstName ,Employees.LastName, COUNT(Orders.EmployeeID) AS CountOrders\n",
    "      FROM Orders\n",
    "      LEFT JOIN Employees\n",
    "      ON Orders.EmployeeID=Employees.EmployeeID\n",
    "      GROUP BY Orders.EmployeeID);`\n",
    "      \n",
    "**Result**  \n",
    "\n",
    "LastName |MAX(CountOrders) \n",
    "-----|----- \n",
    "Peacock|40\n",
    "\n",
    "### 2.c What product was ordered the most by customers in Germany?\n",
    "\n",
    "**Query**  \n",
    "``SELECT ProductName \n",
    "FROM Products\n",
    "WHERE ProductID = (SELECT ProductID\n",
    "                   FROM (SELECT ProductID, MAX(`SUM(Quantity)`)\n",
    "                         FROM (SELECT ProductID, SUM(Quantity)\n",
    "                         FROM (SELECT * FROM OrderDetails\n",
    "                               WHERE OrderID in (SELECT OrderID FROM Orders\n",
    "                               WHERE CustomerID in (SELECT CustomerID FROM Customers\n",
    "                               WHERE Country=\"Germany\")))\n",
    "                         GROUP BY ProductID)))``\n",
    "                         \n",
    "**Result**  \n",
    "\n",
    "ProductName |\n",
    "-----|\n",
    "Boston Crab Meat|"
   ]
  },
  {
   "cell_type": "code",
   "execution_count": null,
   "metadata": {},
   "outputs": [],
   "source": []
  }
 ],
 "metadata": {
  "kernelspec": {
   "display_name": "Python 3",
   "language": "python",
   "name": "python3"
  },
  "language_info": {
   "codemirror_mode": {
    "name": "ipython",
    "version": 3
   },
   "file_extension": ".py",
   "mimetype": "text/x-python",
   "name": "python",
   "nbconvert_exporter": "python",
   "pygments_lexer": "ipython3",
   "version": "3.8.3"
  }
 },
 "nbformat": 4,
 "nbformat_minor": 4
}
